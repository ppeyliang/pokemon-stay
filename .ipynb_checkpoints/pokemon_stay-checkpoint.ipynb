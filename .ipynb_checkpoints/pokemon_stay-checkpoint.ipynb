{
 "cells": [
  {
   "cell_type": "markdown",
   "metadata": {},
   "source": [
    "<img src=\"http://imgur.com/1ZcRyrc.png\" style=\"float: left; margin: 15px; height: 80px\">\n",
    "\n",
    "# Project 1\n",
    "\n",
    "### Building \"Pokemon Stay\"\n",
    "\n",
    "---\n",
    "You are an analyst at a \"scrappy\" online gaming company that specializes in remakes of last year's fads.\n",
    "\n",
    "Your boss, who runs the product development team, is convinced that Pokemon Go's fatal flaw was that you had to actually move around outside. She has design mock-ups for a new game called Pokemon Stay: in this version players still need to move, but just from website to website. Pokemon gyms are now popular online destinations, and catching Pokemon in the \"wild\" simply requires browsing the internet for hours in the comfort of your home.\n",
    "\n",
    "She wants you to program a prototype version of the game, and analyze the planned content to help the team calibrate the design."
   ]
  },
  {
   "cell_type": "markdown",
   "metadata": {},
   "source": [
    "#### Package imports\n",
    "\n",
    "The pprint package below is the only package imported here, and it's not even strictly required to do any of the project. Printing python variables and objects with pprint can help to format them in a \"prettier\" way."
   ]
  },
  {
   "cell_type": "code",
   "execution_count": 1,
   "metadata": {},
   "outputs": [],
   "source": [
    "from pprint import pprint\n",
    "import numpy as np\n",
    "import scipy.stats as st"
   ]
  },
  {
   "cell_type": "markdown",
   "metadata": {},
   "source": [
    "ciao\n",
    "ciao"
   ]
  },
  {
   "cell_type": "markdown",
   "metadata": {},
   "source": [
    "ciao  space space  \n",
    "ciao"
   ]
  },
  {
   "cell_type": "markdown",
   "metadata": {},
   "source": [
    "<img src=\"http://imgur.com/l5NasQj.png\" style=\"float: left; margin: 25px 15px 0px 0px; height: 25px\">\n",
    "\n",
    "## 1. Defining a player\n",
    "\n",
    "---\n",
    "\n",
    "The player variables are:\n",
    "\n",
    "    player_id : id code unique to each player (integer)\n",
    "    player_name : entered name of the player (string)\n",
    "    time_played : number of time played the game in minutes (float)\n",
    "    player_pokemon: the player's captured pokemon (dictionary)\n",
    "    gyms_visited: ids of the gyms that a player has visited (list)\n",
    "    \n",
    "Create the components for a player object by defining each of these variables. The dictionary and list variables should just be defined as empty; you can use any (correctly typed) values for the others."
   ]
  },
  {
   "cell_type": "code",
   "execution_count": 2,
   "metadata": {},
   "outputs": [],
   "source": [
    "# Create a new player.\n",
    "player_1 = {\n",
    "    'player_id': 1,\n",
    "    'player_name': 'player_1',\n",
    "    'time_played': 20.5,\n",
    "    'player_pokemon': {},\n",
    "    'gyms_visited': []\n",
    "    }"
   ]
  },
  {
   "cell_type": "markdown",
   "metadata": {},
   "source": [
    "<img src=\"http://imgur.com/l5NasQj.png\" style=\"float: left; margin: 25px 15px 0px 0px; height: 25px\">\n",
    "\n",
    "## 2. Defining \"gym\" locations\n",
    "\n",
    "---\n",
    "\n",
    "As the sole programmer, Pokemon Stay will have to start small. To begin, there will be 10 different gym location websites on the internet. The gym locations are:\n",
    "\n",
    "    1. 'reddit.com'\n",
    "    2. 'amazon.com'\n",
    "    3. 'twitter.com'\n",
    "    4. 'linkedin.com'\n",
    "    5. 'ebay.com'\n",
    "    6. 'netflix.com'\n",
    "    7. 'sporcle.com'\n",
    "    8. 'stackoverflow.com'\n",
    "    9. 'github.com'\n",
    "    10. 'quora.com'\n",
    "\n",
    "1. Set up a list of all the gym locations. This will be a list of strings.\n",
    "2. Append two of these locations to your player's list of visited gyms.\n",
    "3. Print the list."
   ]
  },
  {
   "cell_type": "code",
   "execution_count": 3,
   "metadata": {},
   "outputs": [],
   "source": [
    "# Define gym locations.\n",
    "gyms = [\n",
    "    'reddit.com',\n",
    "    'amazon.com',\n",
    "    'twitter.com',\n",
    "    'linkedin.com',\n",
    "    'ebay.com',\n",
    "    'netflix.com',\n",
    "    'sporcle.com',\n",
    "    'stackoverflow.com',\n",
    "    'github.com',\n",
    "    'quora.com'\n",
    "    ]"
   ]
  },
  {
   "cell_type": "code",
   "execution_count": 4,
   "metadata": {},
   "outputs": [
    {
     "name": "stdout",
     "output_type": "stream",
     "text": [
      "['reddit.com', 'amazon.com']\n"
     ]
    }
   ],
   "source": [
    "# Append two locations to player_1's list of visited gyms.\n",
    "player_1['gyms_visited'].append(gyms[0])\n",
    "player_1['gyms_visited'].append(gyms[1])\n",
    "print(player_1['gyms_visited'])"
   ]
  },
  {
   "cell_type": "markdown",
   "metadata": {},
   "source": [
    "<img src=\"http://imgur.com/l5NasQj.png\" style=\"float: left; margin: 25px 15px 0px 0px; height: 25px\">\n",
    "\n",
    "## 3. Create a pokedex\n",
    "\n",
    "---\n",
    "\n",
    "We also need to create some pokemon to catch. Each pokemon will be defined by these variables:\n",
    "\n",
    "    pokemon_id : unique identifier for each pokemon (integer)\n",
    "    name : the name of the pokemon (string)\n",
    "    type : the category of pokemon (string)\n",
    "    hp : base hitpoints (integer)\n",
    "    attack : base attack (integer)\n",
    "    defense : base defense (integer)\n",
    "    special_attack : base special attack (integer)\n",
    "    special_defense : base sepecial defense (integer)\n",
    "    speed : base speed (integer)\n",
    "\n",
    "We are only going to create 3 different pokemon with these `pokemon_id` and `pokemon_name` values:\n",
    "\n",
    "    1 : 'charmander'\n",
    "    2 : 'squirtle'\n",
    "    3 : 'bulbasaur'\n",
    "\n",
    "Create a dictionary that will contain the pokemon. The keys of the dictionary will be the `pokemon_id` and the values will themselves dictionaries that contain the other pokemon variables. The structure of the pokedex dictionary will start like so:\n",
    "     \n",
    "     {\n",
    "         1: {\n",
    "                 'name':'charmander',\n",
    "                 'type':'fire',\n",
    "                 ...\n",
    "                 \n",
    "The `type` of charmander, squirtle, and bulbasaur should be `'fire'`, `'water'`, and `'poison'` respectively. The other values are up to you, make them anything you like!\n",
    "\n",
    "Print (or pretty print) the pokedex dictionary with the 3 pokemon."
   ]
  },
  {
   "cell_type": "code",
   "execution_count": 5,
   "metadata": {},
   "outputs": [],
   "source": [
    "# Create pokedex.\n",
    "pokedex = {\n",
    "    1:{\n",
    "        'name': 'charmander',\n",
    "        'type': 'fire',\n",
    "        'hp': 39,\n",
    "        'attack': 52,\n",
    "        'defense': 43,\n",
    "        'special_attack': 60,\n",
    "        'special_defense': 50,\n",
    "        'speed': 65\n",
    "    },\n",
    "    2:{\n",
    "        'name': 'squirtle',\n",
    "        'type': 'water',\n",
    "        'hp': 44,\n",
    "        'attack': 48,\n",
    "        'defense': 65,\n",
    "        'special_attack': 50,\n",
    "        'special_defense': 64,\n",
    "        'speed': 43\n",
    "    },\n",
    "    3:{\n",
    "        'name': 'bulbasaur',\n",
    "        'type': 'poison',\n",
    "        'hp': 45,\n",
    "        'attack': 49,\n",
    "        'defense': 49,\n",
    "        'special_attack': 65,\n",
    "        'special_defense': 65,\n",
    "        'speed': 45\n",
    "    }\n",
    "}"
   ]
  },
  {
   "cell_type": "code",
   "execution_count": 6,
   "metadata": {},
   "outputs": [
    {
     "name": "stdout",
     "output_type": "stream",
     "text": [
      "{1: {'attack': 52,\n",
      "     'defense': 43,\n",
      "     'hp': 39,\n",
      "     'name': 'charmander',\n",
      "     'special_attack': 60,\n",
      "     'special_defense': 50,\n",
      "     'speed': 65,\n",
      "     'type': 'fire'},\n",
      " 2: {'attack': 48,\n",
      "     'defense': 65,\n",
      "     'hp': 44,\n",
      "     'name': 'squirtle',\n",
      "     'special_attack': 50,\n",
      "     'special_defense': 64,\n",
      "     'speed': 43,\n",
      "     'type': 'water'},\n",
      " 3: {'attack': 49,\n",
      "     'defense': 49,\n",
      "     'hp': 45,\n",
      "     'name': 'bulbasaur',\n",
      "     'special_attack': 65,\n",
      "     'special_defense': 65,\n",
      "     'speed': 45,\n",
      "     'type': 'poison'}}\n"
     ]
    }
   ],
   "source": [
    "pprint(pokedex)"
   ]
  },
  {
   "cell_type": "markdown",
   "metadata": {},
   "source": [
    "<img src=\"http://imgur.com/l5NasQj.png\" style=\"float: left; margin: 25px 15px 0px 0px; height: 25px\">\n",
    "\n",
    "## 4. Create a data structure for players\n",
    "\n",
    "---\n",
    "\n",
    "### 4.1 \n",
    "\n",
    "In order to maintain a database of multiple players, create a dictionary that keeps track of players indexed by `player_id`. \n",
    "\n",
    "The keys of the dictionary will be `player_id` and values will be dictionaries containing each player's variables (from question 1). \n",
    "\n",
    "Construct the `players` dictionary and insert the player that you defined in question 1, then print `players`."
   ]
  },
  {
   "cell_type": "code",
   "execution_count": 7,
   "metadata": {},
   "outputs": [
    {
     "name": "stdout",
     "output_type": "stream",
     "text": [
      "{1: {'gyms_visited': ['reddit.com', 'amazon.com'],\n",
      "     'player_id': 1,\n",
      "     'player_name': 'player_1',\n",
      "     'player_pokemon': {},\n",
      "     'time_played': 20.5}}\n"
     ]
    }
   ],
   "source": [
    "# Create empty dictionary for all players.\n",
    "players = {}\n",
    "\n",
    "# Add player_1 in players.\n",
    "players[player_1['player_id']] = player_1\n",
    "pprint(players)"
   ]
  },
  {
   "cell_type": "markdown",
   "metadata": {},
   "source": [
    "---\n",
    "\n",
    "### 4.2\n",
    "\n",
    "Create a new player with `player_id = 2` in the `players` dictionary. Leave the `'player_pokemon'` dictionary empty. Append `'alcatraz'` and `'pacific_beach'` to the `'gyms_visited'` list for player 2.\n",
    "\n",
    "The `'player_name'` and `'time_played'` values are up to you, but must be a string and float, respectively.\n",
    "\n",
    "Remember, the player_id is the key for the player in the players dictionary.\n",
    "\n",
    "Print the `players` dictionary with the new player inserted."
   ]
  },
  {
   "cell_type": "code",
   "execution_count": 8,
   "metadata": {},
   "outputs": [
    {
     "name": "stdout",
     "output_type": "stream",
     "text": [
      "{'gyms_visited': ['alcatraz', 'pacific_beach'],\n",
      " 'player_id': 2,\n",
      " 'player_name': 'player_2',\n",
      " 'player_pokemon': {},\n",
      " 'time_played': 102.2}\n"
     ]
    }
   ],
   "source": [
    "# Create a new player.\n",
    "player_2 = {\n",
    "    'player_id': 2,\n",
    "    'player_name': 'player_2',\n",
    "    'time_played': 102.2,\n",
    "    'player_pokemon': {},\n",
    "    'gyms_visited': []\n",
    "    }\n",
    "\n",
    "# Append two locations to player_2's list of visited gyms.\n",
    "player_2['gyms_visited'].append('alcatraz')\n",
    "player_2['gyms_visited'].append('pacific_beach')\n",
    "pprint(player_2)"
   ]
  },
  {
   "cell_type": "code",
   "execution_count": 9,
   "metadata": {},
   "outputs": [
    {
     "name": "stdout",
     "output_type": "stream",
     "text": [
      "{1: {'gyms_visited': ['reddit.com', 'amazon.com'],\n",
      "     'player_id': 1,\n",
      "     'player_name': 'player_1',\n",
      "     'player_pokemon': {},\n",
      "     'time_played': 20.5},\n",
      " 2: {'gyms_visited': ['alcatraz', 'pacific_beach'],\n",
      "     'player_id': 2,\n",
      "     'player_name': 'player_2',\n",
      "     'player_pokemon': {},\n",
      "     'time_played': 102.2}}\n"
     ]
    }
   ],
   "source": [
    "# Add player_2 in players.\n",
    "players[player_2['player_id']] = player_2\n",
    "pprint(players)"
   ]
  },
  {
   "cell_type": "markdown",
   "metadata": {},
   "source": [
    "<img src=\"http://imgur.com/l5NasQj.png\" style=\"float: left; margin: 25px 15px 0px 0px; height: 25px\">\n",
    "\n",
    "## 5. Add captured pokemon for each player\n",
    "\n",
    "---\n",
    "\n",
    "The `'player_pokemon'` keyed dictionaries for each player keep track of which of the pokemon each player has.\n",
    "\n",
    "The keys of the `'player_pokemon'` dictionaries are the pokemon ids that correspond to the ids in the `pokedex` dictionary you created earlier. The values are integers specifying the stats for the pokemon.\n",
    "\n",
    "Give player 1 a squirtle. Give player 2 charmander and a bulbasaur.\n",
    "\n",
    "Print the players dictionary after adding the pokemon for each player.\n"
   ]
  },
  {
   "cell_type": "code",
   "execution_count": 10,
   "metadata": {},
   "outputs": [],
   "source": [
    "def add_pokemon(player, pokemon_id):\n",
    "    \"\"\"Add pokemon info to 'player_pokemon'.\"\"\"\n",
    "    player['player_pokemon'][pokemon_id] = [\n",
    "        pokedex[pokemon_id]['hp'],\n",
    "        pokedex[pokemon_id]['attack'],\n",
    "        pokedex[pokemon_id]['defense'],\n",
    "        pokedex[pokemon_id]['special_attack'],\n",
    "        pokedex[pokemon_id]['special_defense'],\n",
    "        pokedex[pokemon_id]['speed']\n",
    "    ]"
   ]
  },
  {
   "cell_type": "code",
   "execution_count": 11,
   "metadata": {},
   "outputs": [],
   "source": [
    "# Add pokemon for player_1 and player_2.\n",
    "add_pokemon(player_1, 2)\n",
    "add_pokemon(player_2, 1)\n",
    "add_pokemon(player_2, 3)"
   ]
  },
  {
   "cell_type": "code",
   "execution_count": 12,
   "metadata": {},
   "outputs": [
    {
     "name": "stdout",
     "output_type": "stream",
     "text": [
      "{1: {'gyms_visited': ['reddit.com', 'amazon.com'],\n",
      "     'player_id': 1,\n",
      "     'player_name': 'player_1',\n",
      "     'player_pokemon': {2: [44, 48, 65, 50, 64, 43]},\n",
      "     'time_played': 20.5},\n",
      " 2: {'gyms_visited': ['alcatraz', 'pacific_beach'],\n",
      "     'player_id': 2,\n",
      "     'player_name': 'player_2',\n",
      "     'player_pokemon': {1: [39, 52, 43, 60, 50, 65],\n",
      "                        3: [45, 49, 49, 65, 65, 45]},\n",
      "     'time_played': 102.2}}\n"
     ]
    }
   ],
   "source": [
    "pprint(players)"
   ]
  },
  {
   "cell_type": "markdown",
   "metadata": {},
   "source": [
    "\n",
    "\n",
    "## 6. What gyms have players visited?\n",
    "\n",
    "---\n",
    "<img src=\"http://imgur.com/l5NasQj.png\" style=\"float: left; margin: 25px 15px 0px 0px; height: 25px\">\n",
    "### 6.1\n",
    "\n",
    "Write a for-loop that:\n",
    "\n",
    "1. Iterates through the `pokemon_gyms` list of gym locations you defined before.\n",
    "2. For each gym, iterate through each player in the `players` dictionary with a second, internal for-loop.\n",
    "3. If the player has visited the gym, print out \"[player] has visited [gym location].\", filling in [player] and [gym location] with the current player's name and current gym location."
   ]
  },
  {
   "cell_type": "code",
   "execution_count": 13,
   "metadata": {},
   "outputs": [
    {
     "name": "stdout",
     "output_type": "stream",
     "text": [
      "player_1 has visited reddit.com.\n",
      "player_1 has visited amazon.com.\n"
     ]
    }
   ],
   "source": [
    "for g in gyms:\n",
    "    for player, player_info in players.items():\n",
    "        name = player_info['player_name']\n",
    "        if g in player_info['gyms_visited']:\n",
    "            print('{} has visited {}.'.format(name, g))"
   ]
  },
  {
   "cell_type": "markdown",
   "metadata": {},
   "source": [
    "<img src=\"http://imgur.com/xDpSobf.png\" style=\"float: left; margin: 25px 15px 0px 0px; height: 25px\">\n",
    "### 6.2\n",
    "\n",
    "How many times did that loop run? If you have N gyms and also N players, how many times would it run as a function of N?\n",
    "\n",
    "Can you think of a more efficient way to accomplish the same thing? \n",
    "\n",
    "(You can write your answer as Markdown text.)"
   ]
  },
  {
   "cell_type": "markdown",
   "metadata": {},
   "source": [
    "Ans: \n",
    "- The loop ran 20 times. The loop would run $N^2$ times for N gyms and N players\n",
    "- A more efficient way is to use list comprehension"
   ]
  },
  {
   "cell_type": "markdown",
   "metadata": {},
   "source": [
    "<img src=\"http://imgur.com/l5NasQj.png\" style=\"float: left; margin: 25px 15px 0px 0px; height: 25px\">\n",
    "\n",
    "## 7. Calculate player \"power\".\n",
    "\n",
    "---\n",
    "\n",
    "Define a function that will calculate a player's \"power\". Player power is defined as the sum of the base statistics all of their pokemon.\n",
    "\n",
    "Your function will:\n",
    "\n",
    "1. Accept the `players` dictionary, `pokedex` dictionary, and a player_id as arguments.\n",
    "2. For the specified player_id, look up that player's pokemon and their level(s).\n",
    "3. Find and aggregate the attack and defense values for each of the player's pokemon from the `pokedex` dictionary.\n",
    "4. Print \"[player name]'s power is [player power].\", where the player power is the sum of the base statistics for all of their pokemon.\n",
    "5. Return the player's power value.\n",
    "\n",
    "Print out the pokemon power for each of your players."
   ]
  },
  {
   "cell_type": "code",
   "execution_count": 14,
   "metadata": {},
   "outputs": [],
   "source": [
    "def power(players, pokedex, player_id):\n",
    "    \"\"\"Calculate player power by adding base statistics for all pokemon.\"\"\"\n",
    "    name = players[player_id]['player_name']\n",
    "    pokemon_id = players[player_id]['player_pokemon'].keys()\n",
    "    \n",
    "    all_base_stat = []\n",
    "    for pokemon in pokemon_id:\n",
    "        sum_base_stat = pokedex[pokemon]['attack'] + pokedex[pokemon]['defense']\n",
    "        all_base_stat.append(sum_base_stat)\n",
    "        \n",
    "    power = sum(all_base_stat)\n",
    "    print(\"{}'s power is {}.\".format(name, power))\n",
    "    return power"
   ]
  },
  {
   "cell_type": "code",
   "execution_count": 15,
   "metadata": {},
   "outputs": [
    {
     "name": "stdout",
     "output_type": "stream",
     "text": [
      "player_1's power is 113.\n"
     ]
    },
    {
     "data": {
      "text/plain": [
       "113"
      ]
     },
     "execution_count": 15,
     "metadata": {},
     "output_type": "execute_result"
    }
   ],
   "source": [
    "power(players, pokedex, 1)"
   ]
  },
  {
   "cell_type": "code",
   "execution_count": 16,
   "metadata": {},
   "outputs": [
    {
     "name": "stdout",
     "output_type": "stream",
     "text": [
      "player_2's power is 193.\n"
     ]
    },
    {
     "data": {
      "text/plain": [
       "193"
      ]
     },
     "execution_count": 16,
     "metadata": {},
     "output_type": "execute_result"
    }
   ],
   "source": [
    "power(players, pokedex, 2)"
   ]
  },
  {
   "cell_type": "markdown",
   "metadata": {
    "collapsed": true
   },
   "source": [
    "<img src=\"http://imgur.com/l5NasQj.png\" style=\"float: left; margin: 25px 15px 0px 0px; height: 25px\">\n",
    "\n",
    "## 8. Load a pokedex file containing all the pokemon\n",
    "\n",
    "---\n",
    "\n",
    "### 8.1\n",
    "\n",
    "While you were putting together the prototype code, your colleagues were preparing a dataset of Pokemon and their attributes. (This was a rush job, so they may have picked some crazy values for some...)\n",
    "\n",
    "The code below loads information from a comma separated value (csv) file. You need to parse this string into a more useable format. The format of the string is:\n",
    "\n",
    "- Rows are separated by newline characters: \\n\n",
    "- Columns are separated by commas: ,\n",
    "- All cells in the csv are double quoted. Ex: \"PokedexNumber\" is the first cell of the first row.\n",
    "\n",
    "\n",
    "Using for-loops, create a list of lists where each list within the overall list is a row of the csv/matrix, and each element in that list is a cell in that row. Additional criteria:\n",
    "\n",
    "1. Quotes are removed from each cell item.\n",
    "2. Numeric column values are converted to floats.\n",
    "3. There are some cells that are empty and have no information. For these cells put a -1 value in place.\n",
    "\n",
    "Your end result is effectively a matrix. Each list in the outer list is a row, and the *j*th elements of list together form the *j*th column, which represents a data attribute. The first three lists in your pokedex list should look like this:\n",
    "\n",
    "    ['PokedexNumber', 'Name', 'Type', 'Total', 'HP', 'Attack', 'Defense', 'SpecialAttack', 'SpecialDefense', 'Speed']\n",
    "    [1.0, 'Bulbasaur', 'GrassPoison', 318.0, 45.0, 49.0, 49.0, 65.0, 65.0, 45.0]\n",
    "    [2.0, 'Ivysaur', 'GrassPoison', 405.0, 60.0, 62.0, 63.0, 80.0, 80.0, 60.0]"
   ]
  },
  {
   "cell_type": "code",
   "execution_count": 17,
   "metadata": {},
   "outputs": [],
   "source": [
    "# Code to read in pokedex information.\n",
    "raw_pd = ''\n",
    "pokedex_file = 'pokedex_basic.csv'\n",
    "with open(pokedex_file, 'r') as f:\n",
    "    raw_pd = f.read()\n",
    "\n",
    "# The pokedex string is assigned to the raw_pd variable."
   ]
  },
  {
   "cell_type": "code",
   "execution_count": 18,
   "metadata": {},
   "outputs": [],
   "source": [
    "clean1 = raw_pd.splitlines()"
   ]
  },
  {
   "cell_type": "code",
   "execution_count": 19,
   "metadata": {},
   "outputs": [
    {
     "data": {
      "text/plain": [
       "['\"PokedexNumber\",\"Name\",\"Type\",\"Total\",\"HP\",\"Attack\",\"Defense\",\"SpecialAttack\",\"SpecialDefense\",\"Speed\"',\n",
       " '\"001\",\"Bulbasaur\",\"GrassPoison\",\"318\",\"45\",\"49\",\"49\",\"65\",\"65\",\"45\"',\n",
       " '\"002\",\"Ivysaur\",\"GrassPoison\",\"405\",\"60\",\"62\",\"63\",\"80\",\"80\",\"60\"',\n",
       " '\"003\",\"Venusaur\",\"GrassPoison\",\"525\",\"80\",\"82\",\"83\",\"100\",\"100\",\"80\"',\n",
       " '\"003\",\"VenusaurMega Venusaur\",\"GrassPoison\",\"625\",\"80\",\"100\",\"123\",\"122\",\"120\",\"80\"',\n",
       " '\"004\",\"Charmander\",\"Fire\",\"309\",\"39\",\"52\",\"43\",\"60\",\"50\",\"65\"',\n",
       " '\"005\",\"Charmeleon\",\"Fire\",\"405\",\"58\",\"64\",\"58\",\"80\",\"65\",\"80\"',\n",
       " '\"006\",\"Charizard\",\"FireFlying\",\"534\",\"78\",\"84\",\"78\",\"109\",\"85\",\"100\"',\n",
       " '\"006\",\"CharizardMega Charizard X\",\"FireDragon\",\"634\",\"78\",\"130\",\"111\",\"130\",\"85\",\"100\"',\n",
       " '\"006\",\"CharizardMega Charizard Y\",\"FireFlying\",\"634\",\"78\",\"104\",\"78\",\"159\",\"115\",\"100\"']"
      ]
     },
     "execution_count": 19,
     "metadata": {},
     "output_type": "execute_result"
    }
   ],
   "source": [
    "# Display first 10 lines.\n",
    "clean1[:10]"
   ]
  },
  {
   "cell_type": "code",
   "execution_count": 20,
   "metadata": {},
   "outputs": [],
   "source": [
    "# Convert to required format.\n",
    "cleaned = []\n",
    "for line in clean1:\n",
    "    raw = []\n",
    "    for string in line.replace('\"', '').split(','):\n",
    "        try:\n",
    "            raw.append(float(string))\n",
    "        except ValueError:\n",
    "            raw.append(string)\n",
    "    cleaned.append(raw)"
   ]
  },
  {
   "cell_type": "code",
   "execution_count": 21,
   "metadata": {},
   "outputs": [
    {
     "data": {
      "text/plain": [
       "[['PokedexNumber',\n",
       "  'Name',\n",
       "  'Type',\n",
       "  'Total',\n",
       "  'HP',\n",
       "  'Attack',\n",
       "  'Defense',\n",
       "  'SpecialAttack',\n",
       "  'SpecialDefense',\n",
       "  'Speed'],\n",
       " [1.0, 'Bulbasaur', 'GrassPoison', 318.0, 45.0, 49.0, 49.0, 65.0, 65.0, 45.0],\n",
       " [2.0, 'Ivysaur', 'GrassPoison', 405.0, 60.0, 62.0, 63.0, 80.0, 80.0, 60.0],\n",
       " [3.0, 'Venusaur', 'GrassPoison', 525.0, 80.0, 82.0, 83.0, 100.0, 100.0, 80.0],\n",
       " [3.0,\n",
       "  'VenusaurMega Venusaur',\n",
       "  'GrassPoison',\n",
       "  625.0,\n",
       "  80.0,\n",
       "  100.0,\n",
       "  123.0,\n",
       "  122.0,\n",
       "  120.0,\n",
       "  80.0],\n",
       " [4.0, 'Charmander', 'Fire', 309.0, 39.0, 52.0, 43.0, 60.0, 50.0, 65.0],\n",
       " [5.0, 'Charmeleon', 'Fire', 405.0, 58.0, 64.0, 58.0, 80.0, 65.0, 80.0],\n",
       " [6.0, 'Charizard', 'FireFlying', 534.0, 78.0, 84.0, 78.0, 109.0, 85.0, 100.0],\n",
       " [6.0,\n",
       "  'CharizardMega Charizard X',\n",
       "  'FireDragon',\n",
       "  634.0,\n",
       "  78.0,\n",
       "  130.0,\n",
       "  111.0,\n",
       "  130.0,\n",
       "  85.0,\n",
       "  100.0],\n",
       " [6.0,\n",
       "  'CharizardMega Charizard Y',\n",
       "  'FireFlying',\n",
       "  634.0,\n",
       "  78.0,\n",
       "  104.0,\n",
       "  78.0,\n",
       "  159.0,\n",
       "  115.0,\n",
       "  100.0]]"
      ]
     },
     "execution_count": 21,
     "metadata": {},
     "output_type": "execute_result"
    }
   ],
   "source": [
    "# Display first 10 lines.\n",
    "cleaned[:10]"
   ]
  },
  {
   "cell_type": "markdown",
   "metadata": {},
   "source": [
    "<img src=\"http://imgur.com/xDpSobf.png\" style=\"float: left; margin: 25px 15px 0px 0px; height: 25px\">\n",
    "\n",
    "### 8.2 Parse the raw pokedex with list comprehensions\n",
    "\n",
    "---\n",
    "\n",
    "Perform the same parsing as above, but **using only a single list comprehension** instead of for loops. You may have nested list comprehensions within the main list comprehension! The output should be exactly the same."
   ]
  },
  {
   "cell_type": "code",
   "execution_count": 22,
   "metadata": {},
   "outputs": [
    {
     "data": {
      "text/plain": [
       "[['PokedexNumber',\n",
       "  'Name',\n",
       "  'Type',\n",
       "  'Total',\n",
       "  'HP',\n",
       "  'Attack',\n",
       "  'Defense',\n",
       "  'SpecialAttack',\n",
       "  'SpecialDefense',\n",
       "  'Speed'],\n",
       " [1.0, 'Bulbasaur', 'GrassPoison', 318.0, 45.0, 49.0, 49.0, 65.0, 65.0, 45.0],\n",
       " [2.0, 'Ivysaur', 'GrassPoison', 405.0, 60.0, 62.0, 63.0, 80.0, 80.0, 60.0],\n",
       " [3.0, 'Venusaur', 'GrassPoison', 525.0, 80.0, 82.0, 83.0, 100.0, 100.0, 80.0],\n",
       " [3.0,\n",
       "  'VenusaurMega Venusaur',\n",
       "  'GrassPoison',\n",
       "  625.0,\n",
       "  80.0,\n",
       "  100.0,\n",
       "  123.0,\n",
       "  122.0,\n",
       "  120.0,\n",
       "  80.0],\n",
       " [4.0, 'Charmander', 'Fire', 309.0, 39.0, 52.0, 43.0, 60.0, 50.0, 65.0],\n",
       " [5.0, 'Charmeleon', 'Fire', 405.0, 58.0, 64.0, 58.0, 80.0, 65.0, 80.0],\n",
       " [6.0, 'Charizard', 'FireFlying', 534.0, 78.0, 84.0, 78.0, 109.0, 85.0, 100.0],\n",
       " [6.0,\n",
       "  'CharizardMega Charizard X',\n",
       "  'FireDragon',\n",
       "  634.0,\n",
       "  78.0,\n",
       "  130.0,\n",
       "  111.0,\n",
       "  130.0,\n",
       "  85.0,\n",
       "  100.0],\n",
       " [6.0,\n",
       "  'CharizardMega Charizard Y',\n",
       "  'FireFlying',\n",
       "  634.0,\n",
       "  78.0,\n",
       "  104.0,\n",
       "  78.0,\n",
       "  159.0,\n",
       "  115.0,\n",
       "  100.0]]"
      ]
     },
     "execution_count": 22,
     "metadata": {},
     "output_type": "execute_result"
    }
   ],
   "source": [
    "# Display first 10 lines.\n",
    "[[float(s) if s.isdigit() else s for s in line.replace('\"', '').split(',')] for line in clean1][:10]"
   ]
  },
  {
   "cell_type": "markdown",
   "metadata": {},
   "source": [
    "<img src=\"http://imgur.com/l5NasQj.png\" style=\"float: left; margin: 25px 15px 0px 0px; height: 25px\">\n",
    "\n",
    "## 9. Write a function to generate the full pokedex\n",
    "\n",
    "---\n",
    "\n",
    "Write a function that recreates the pokedex you made before, but with the data read in from the full pokemon file. The `PokedexNumber` should be used as the `pokemon_id` key values for the dictionary of pokemon.\n",
    "\n",
    "Your function should:\n",
    "\n",
    "1. Take the parsed pokedex information you created above as an argument.\n",
    "2. Return a dictionary in the same format as your original pokedex you created before containing the information from the parsed full pokedex file.\n",
    "\n",
    "To test the function, print out the pokemon with id = 100."
   ]
  },
  {
   "cell_type": "code",
   "execution_count": 23,
   "metadata": {
    "scrolled": true
   },
   "outputs": [],
   "source": [
    "def full_pokedex(cleaned):\n",
    "    \"\"\"Generate full pokedex dictionary from parsed full pokedex file.\"\"\"\n",
    "    header = cleaned[0]\n",
    "    data = cleaned[1:]\n",
    "    full_pokedex = {}\n",
    "    \n",
    "    # Re-index the PokedexNumber due to duplicatation to prevent data loss.\n",
    "    for i, raw in enumerate(data):\n",
    "        raw[0] = float(i+1)\n",
    "\n",
    "    # Create dictionary.\n",
    "    for raw in data:\n",
    "        pokemon_stat = {}\n",
    "        for i, stat in enumerate(raw[1:]):\n",
    "            pokemon_stat[header[i+1]] = raw[i+1]\n",
    "        full_pokedex[raw[0]] = pokemon_stat\n",
    "    return full_pokedex"
   ]
  },
  {
   "cell_type": "code",
   "execution_count": 24,
   "metadata": {},
   "outputs": [],
   "source": [
    "# Check no data loss.\n",
    "assert len(cleaned[1:]) == len(full_pokedex(cleaned))"
   ]
  },
  {
   "cell_type": "code",
   "execution_count": 25,
   "metadata": {},
   "outputs": [
    {
     "data": {
      "text/plain": [
       "[100.0, 'Gastly', 'GhostPoison', 310.0, 30.0, 35.0, 30.0, 100.0, 35.0, 80.0]"
      ]
     },
     "execution_count": 25,
     "metadata": {},
     "output_type": "execute_result"
    }
   ],
   "source": [
    "# Check raw data.\n",
    "cleaned[100]"
   ]
  },
  {
   "cell_type": "code",
   "execution_count": 26,
   "metadata": {},
   "outputs": [
    {
     "data": {
      "text/plain": [
       "{'Attack': 35.0,\n",
       " 'Defense': 30.0,\n",
       " 'HP': 30.0,\n",
       " 'Name': 'Gastly',\n",
       " 'SpecialAttack': 100.0,\n",
       " 'SpecialDefense': 35.0,\n",
       " 'Speed': 80.0,\n",
       " 'Total': 310.0,\n",
       " 'Type': 'GhostPoison'}"
      ]
     },
     "execution_count": 26,
     "metadata": {},
     "output_type": "execute_result"
    }
   ],
   "source": [
    "# Check raw data in dictionary.\n",
    "full_pokedex(cleaned)[100]"
   ]
  },
  {
   "cell_type": "markdown",
   "metadata": {},
   "source": [
    "<img src=\"http://i.imgur.com/GCAf1UX.png\" style=\"float: left; margin: 25px 15px 0px 0px; height: 25px\">\n",
    "\n",
    "## 10. Write a function to generate a \"filtered\" pokedex\n",
    "---\n",
    "Your function should:\n",
    "1. Take the parsed pokedex information you created above as an argument.\n",
    "1. Take a dictionary as a parameter with keys matching the features of the Pokedex, filtering by exact match for string type values, and/or filter continuous variables specified value that is greater than or equal to the dictionary key parameter.\n",
    "1. Return multiple elements from the Pokedex\n",
    "\n",
    "Example:\n",
    "\n",
    "```python\n",
    "\n",
    "# Only filter based on parameters passed\n",
    "filter_options = {\n",
    "    'Attack':   25,\n",
    "    'Defense':  30,\n",
    "    'Type':     'Electric'\n",
    "}\n",
    "\n",
    "# Return records with attack >= 24, defense >= 30, and type == \"Electric\"\n",
    "# Also anticipate that other paramters can also be passed such as \"SpecialAttack\", \"Speed\", etc.\n",
    "filtered_pokedex(pokedex_data, filter=filter_options)\n",
    "\n",
    "# Example output:\n",
    "# [{'Attack': 30.0,\n",
    "#  'Defense': 50.0,\n",
    "#  'HP': 40.0,\n",
    "#  'Name': 'Voltorb',\n",
    "#  'SpecialAttack': 55.0,\n",
    "#  'SpecialDefense': 55.0,\n",
    "#  'Speed': 100.0,\n",
    "#  'Total': 330.0,\n",
    "#  'Type': 'Electric'},\n",
    "#  {'Attack': 30.0,\n",
    "#  'Defense': 33.0,\n",
    "#  'HP': 32.0,\n",
    "#  'Name': 'Pikachu',\n",
    "#  'SpecialAttack': 55.0,\n",
    "#  'SpecialDefense': 55.0,\n",
    "#  'Speed': 100.0,\n",
    "#  'Total': 330.0,\n",
    "#  'Type': 'Electric'},\n",
    "#  ... etc\n",
    "#  ]\n",
    "\n",
    "```\n",
    "\n"
   ]
  },
  {
   "cell_type": "code",
   "execution_count": 27,
   "metadata": {},
   "outputs": [],
   "source": [
    "pokedex = full_pokedex(cleaned)"
   ]
  },
  {
   "cell_type": "code",
   "execution_count": 28,
   "metadata": {},
   "outputs": [],
   "source": [
    "def filtered_pokedex(pokedex_data, filter):\n",
    "    \"\"\"Filter pokedex based on specified filter criteria.\"\"\"\n",
    "    # Keys are case-sensitive.\n",
    "    filter = filter_options\n",
    "    \n",
    "    # Check invalid keys in filter_options.\n",
    "    for key in filter_options:\n",
    "        if key not in pokedex.values()[0].keys():\n",
    "            print('Error: \"{}\" is not a valid key. Please try again.'.format(key))\n",
    "            return None\n",
    "        \n",
    "    # Check data type for parameters is int or float.\n",
    "    filter_values = {k: v for k, v in filter_options.items() if k != 'Type' and k != 'Name'}\n",
    "    for k, v in filter_values.items():\n",
    "        if isinstance(v, int) or isinstance(v, float):\n",
    "            continue\n",
    "        else:\n",
    "            print('Error: Value for \"{}\" must be integer or float. Please try again.'.format(k))\n",
    "            return None\n",
    "    \n",
    "    # Filter based on 'Name' if defined.\n",
    "    if 'Name' in filter_options.keys():\n",
    "        filter_list = [{k: v for k, v in pokedex.items() if v['Name'] == filter_options['Name']}]\n",
    "        print(\"Filter by 'Name' only! Other filter options are ignored.\")\n",
    "        \n",
    "    # Filter based on 'Type' if defined.\n",
    "    elif 'Type' in filter_options.keys():\n",
    "        # Create a filtered list based on 'Type'\n",
    "        filter_list = [{k: v for k, v in pokedex.items() if v['Type'] == filter_options['Type']}]\n",
    "        # If other options defined, keep filtering in latest 'filter_list'.\n",
    "        for k, v in filter_options.items():\n",
    "            if isinstance(v, int) or isinstance(v, float):\n",
    "                filter_list = [{parameter: num for parameter, num in filter_dict.items() if num[k] >= v} \n",
    "                               for filter_dict in filter_list]\n",
    "                \n",
    "    # Filter based on numeric values if no string values defined.\n",
    "    else:\n",
    "        filter_list = [{k: v for k, v in pokedex.items()}]\n",
    "        for k, v in filter_options.items():\n",
    "            if isinstance(v, int) or isinstance(v, float):\n",
    "                filter_list = [{parameter: num for parameter, num in filter_dict.items() if num[k] >= v} \n",
    "                               for filter_dict in filter_list]\n",
    "\n",
    "    return filter_list"
   ]
  },
  {
   "cell_type": "code",
   "execution_count": 29,
   "metadata": {},
   "outputs": [
    {
     "name": "stdout",
     "output_type": "stream",
     "text": [
      "Error: \"Attak\" is not a valid key. Please try again.\n"
     ]
    }
   ],
   "source": [
    "# Return error if key is invalid.\n",
    "filter_options = {\n",
    "    'Attak': 90,\n",
    "    'Defense': 80,\n",
    "    'HP': 90,\n",
    "    'Type': 'Water'\n",
    "}\n",
    "filtered_pokedex(pokedex, filter=filter_options)"
   ]
  },
  {
   "cell_type": "code",
   "execution_count": 30,
   "metadata": {},
   "outputs": [
    {
     "name": "stdout",
     "output_type": "stream",
     "text": [
      "Error: Value for \"Attack\" must be integer or float. Please try again.\n"
     ]
    }
   ],
   "source": [
    "# Return error if data type for parameter is invalid.\n",
    "filter_options = {\n",
    "    'Attack': '90',\n",
    "    'Defense': 80,\n",
    "    'HP': 90,\n",
    "    'Type': 'Water'\n",
    "}\n",
    "filtered_pokedex(pokedex, filter=filter_options)"
   ]
  },
  {
   "cell_type": "code",
   "execution_count": 31,
   "metadata": {},
   "outputs": [
    {
     "name": "stdout",
     "output_type": "stream",
     "text": [
      "Filter by 'Name' only! Other filter options are ignored.\n"
     ]
    },
    {
     "data": {
      "text/plain": [
       "[{3.0: {'Attack': 82.0,\n",
       "   'Defense': 83.0,\n",
       "   'HP': 80.0,\n",
       "   'Name': 'Venusaur',\n",
       "   'SpecialAttack': 100.0,\n",
       "   'SpecialDefense': 100.0,\n",
       "   'Speed': 80.0,\n",
       "   'Total': 525.0,\n",
       "   'Type': 'GrassPoison'}}]"
      ]
     },
     "execution_count": 31,
     "metadata": {},
     "output_type": "execute_result"
    }
   ],
   "source": [
    "# Define filter_options ('Name' only).\n",
    "filter_options = {\n",
    "    'Name': 'Venusaur',\n",
    "    'Defense': 30,\n",
    "    'HP': 80\n",
    "}\n",
    "\n",
    "filtered_pokedex(pokedex, filter=filter_options)"
   ]
  },
  {
   "cell_type": "code",
   "execution_count": 32,
   "metadata": {},
   "outputs": [
    {
     "data": {
      "text/plain": [
       "[{422.0: {'Attack': 100.0,\n",
       "   'Defense': 90.0,\n",
       "   'HP': 100.0,\n",
       "   'Name': 'Kyogre',\n",
       "   'SpecialAttack': 150.0,\n",
       "   'SpecialDefense': 140.0,\n",
       "   'Speed': 90.0,\n",
       "   'Total': 670.0,\n",
       "   'Type': 'Water'},\n",
       "  423.0: {'Attack': 150.0,\n",
       "   'Defense': 90.0,\n",
       "   'HP': 100.0,\n",
       "   'Name': 'KyogrePrimal Kyogre',\n",
       "   'SpecialAttack': 180.0,\n",
       "   'SpecialDefense': 160.0,\n",
       "   'Speed': 90.0,\n",
       "   'Total': 770.0,\n",
       "   'Type': 'Water'},\n",
       "  707.0: {'Attack': 120.0,\n",
       "   'Defense': 100.0,\n",
       "   'HP': 100.0,\n",
       "   'Name': 'Reshiram',\n",
       "   'SpecialAttack': 150.0,\n",
       "   'SpecialDefense': 120.0,\n",
       "   'Speed': 90.0,\n",
       "   'Total': 680.0,\n",
       "   'Type': 'DragonFire'}}]"
      ]
     },
     "execution_count": 32,
     "metadata": {},
     "output_type": "execute_result"
    }
   ],
   "source": [
    "# Define filter_options (without 'Type').\n",
    "filter_options = {\n",
    "    'Attack': 80.5,\n",
    "    'Defense': 80,\n",
    "    'HP': 100,\n",
    "    'Speed': 70,\n",
    "    'Total': 650,\n",
    "    'SpecialAttack': 130,\n",
    "    'SpecialDefense': 120\n",
    "}\n",
    "\n",
    "filtered_pokedex(pokedex, filter=filter_options)"
   ]
  },
  {
   "cell_type": "code",
   "execution_count": 33,
   "metadata": {},
   "outputs": [
    {
     "data": {
      "text/plain": [
       "[{422.0: {'Attack': 100.0,\n",
       "   'Defense': 90.0,\n",
       "   'HP': 100.0,\n",
       "   'Name': 'Kyogre',\n",
       "   'SpecialAttack': 150.0,\n",
       "   'SpecialDefense': 140.0,\n",
       "   'Speed': 90.0,\n",
       "   'Total': 670.0,\n",
       "   'Type': 'Water'},\n",
       "  423.0: {'Attack': 150.0,\n",
       "   'Defense': 90.0,\n",
       "   'HP': 100.0,\n",
       "   'Name': 'KyogrePrimal Kyogre',\n",
       "   'SpecialAttack': 180.0,\n",
       "   'SpecialDefense': 160.0,\n",
       "   'Speed': 90.0,\n",
       "   'Total': 770.0,\n",
       "   'Type': 'Water'},\n",
       "  549.0: {'Attack': 100.0,\n",
       "   'Defense': 100.0,\n",
       "   'HP': 100.0,\n",
       "   'Name': 'Manaphy',\n",
       "   'SpecialAttack': 100.0,\n",
       "   'SpecialDefense': 100.0,\n",
       "   'Speed': 100.0,\n",
       "   'Total': 600.0,\n",
       "   'Type': 'Water'},\n",
       "  563.0: {'Attack': 100.0,\n",
       "   'Defense': 85.0,\n",
       "   'HP': 95.0,\n",
       "   'Name': 'Samurott',\n",
       "   'SpecialAttack': 108.0,\n",
       "   'SpecialDefense': 70.0,\n",
       "   'Speed': 70.0,\n",
       "   'Total': 528.0,\n",
       "   'Type': 'Water'}}]"
      ]
     },
     "execution_count": 33,
     "metadata": {},
     "output_type": "execute_result"
    }
   ],
   "source": [
    "# Define filter_options (with 'Type').\n",
    "filter_options = {\n",
    "    'Attack': 80,\n",
    "    'Defense': 80,\n",
    "    'HP': 90.5,\n",
    "    'Type': 'Water'\n",
    "}\n",
    "\n",
    "filtered_pokedex(pokedex, filter=filter_options)"
   ]
  },
  {
   "cell_type": "markdown",
   "metadata": {
    "collapsed": true
   },
   "source": [
    "\n",
    "## 9. Descriptive statistics on the prototype pokedex\n",
    "\n",
    "<img src=\"http://imgur.com/l5NasQj.png\" style=\"float: left; margin: 25px 15px 0px 0px; height: 25px\">\n",
    "### 9.1\n",
    "\n",
    "What is the population mean and standard deviation of the \"Total\" attribute for all characters in the Pokedex?\n",
    "\n"
   ]
  },
  {
   "cell_type": "code",
   "execution_count": 34,
   "metadata": {},
   "outputs": [
    {
     "name": "stdout",
     "output_type": "stream",
     "text": [
      "population mean:    435.1275\n",
      "Standard deviation: 119.9620\n"
     ]
    }
   ],
   "source": [
    "# Convert 'Total' to list.\n",
    "pokedex = full_pokedex(cleaned)\n",
    "total = [v['Total'] for k, v in pokedex.items()]\n",
    "\n",
    "# Calculate mean and standard deviation.\n",
    "mean = np.mean(total)\n",
    "std = np.std(total)\n",
    "print('population mean: {:11}\\nStandard deviation: {:.4f}'.format(mean, std))"
   ]
  },
  {
   "cell_type": "markdown",
   "metadata": {},
   "source": [
    "<img src=\"http://imgur.com/l5NasQj.png\" style=\"float: left; margin: 25px 15px 0px 0px; height: 25px\">\n",
    "### 9.2\n",
    "\n",
    "The game is no fun if the characters are wildly unbalanced! Are any characters \"overpowered\", which we'll define as having a \"Total\" more than three standard deviations from the population mean?"
   ]
  },
  {
   "cell_type": "code",
   "execution_count": 35,
   "metadata": {},
   "outputs": [
    {
     "name": "stdout",
     "output_type": "stream",
     "text": [
      "No. of \"overpowered\" pokemon: 1\n",
      "\n",
      "{164.0: {'Attack': 190.0,\n",
      "         'Defense': 100.0,\n",
      "         'HP': 126.0,\n",
      "         'Name': 'MewtwoMega Mewtwo X',\n",
      "         'SpecialAttack': 154.0,\n",
      "         'SpecialDefense': 100.0,\n",
      "         'Speed': 130.0,\n",
      "         'Total': 800.0,\n",
      "         'Type': 'PsychicFighting'}}\n"
     ]
    }
   ],
   "source": [
    "# Filter overpowered pokemon from pokedex.\n",
    "overpowered = {k: v for k, v in pokedex.items() if v['Total'] > (mean + 3*std)}\n",
    "print('No. of \"overpowered\" pokemon: %s\\n' %(len(overpowered)))\n",
    "pprint(overpowered)"
   ]
  },
  {
   "cell_type": "markdown",
   "metadata": {},
   "source": [
    "<img src=\"http://imgur.com/xDpSobf.png\" style=\"float: left; margin: 25px 15px 0px 0px; height: 25px\">\n",
    "\n",
    "## 10. Calibrate the frequency of Pokemon\n",
    "\n",
    "The design team wants you to make the powerful Pokemon rare, and the weaklings more common. How would you set the probability $p_i$ of finding Pokemon *i* each time a player visits a gym?\n",
    "\n",
    "Write a function that takes in a Pokedex number and returns a value $p_i$ for that character.\n",
    "\n",
    "Hint: there are many ways you could do this. What do _you_ think makes sense? Start with simplifying assumptions: for example, you could assume that the probabilities of encountering any two Pokemon on one visit to a gym are independent of each other."
   ]
  },
  {
   "cell_type": "code",
   "execution_count": 36,
   "metadata": {},
   "outputs": [],
   "source": [
    "# Treat total power as normal distribution and use Z score to calculate the probability.\n",
    "def probability(pokemon_id):\n",
    "    \"\"\"Calculate probability of finding each pokemon.\"\"\"\n",
    "    prob = {}\n",
    "    total = [v['Total'] for k, v in pokedex.items()]\n",
    "    mean = np.mean(total)\n",
    "    std = np.std(total)\n",
    "    \n",
    "    for i, t in enumerate(total, start=1):\n",
    "        z = (t-mean) / std\n",
    "        p = 1 - st.norm.cdf(z)\n",
    "        prob[i] = p\n",
    "\n",
    "    return prob[pokemon_id]"
   ]
  },
  {
   "cell_type": "code",
   "execution_count": 37,
   "metadata": {},
   "outputs": [
    {
     "data": {
      "text/plain": [
       "[0.8355598055997988,\n",
       " 0.5991478323010193,\n",
       " 0.22687598399834275,\n",
       " 0.05673674542706508,\n",
       " 0.8534614555455778,\n",
       " 0.5991478323010193,\n",
       " 0.20491342972848525,\n",
       " 0.04867937238268372,\n",
       " 0.04867937238268372,\n",
       " 0.8436841709064191]"
      ]
     },
     "execution_count": 37,
     "metadata": {},
     "output_type": "execute_result"
    }
   ],
   "source": [
    "# Show first 10 results.\n",
    "map(probability, range(1,11))"
   ]
  }
 ],
 "metadata": {
  "anaconda-cloud": {},
  "kernelspec": {
   "display_name": "Python 2",
   "language": "python",
   "name": "python2"
  },
  "language_info": {
   "codemirror_mode": {
    "name": "ipython",
    "version": 2
   },
   "file_extension": ".py",
   "mimetype": "text/x-python",
   "name": "python",
   "nbconvert_exporter": "python",
   "pygments_lexer": "ipython2",
   "version": "2.7.15"
  }
 },
 "nbformat": 4,
 "nbformat_minor": 1
}
